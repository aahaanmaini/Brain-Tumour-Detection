{
  "cells": [
    {
      "cell_type": "code",
      "execution_count": null,
      "metadata": {
        "id": "Nvk0HZfr2ar3"
      },
      "outputs": [],
      "source": [
        "import tensorflow as tf\n",
        "from tensorflow.keras import layers, models\n",
        "import numpy as np\n",
        "import matplotlib.pyplot as plt\n",
        "from tensorflow.keras.preprocessing.image import ImageDataGenerator\n",
        "from sklearn.model_selection import train_test_split"
      ]
    },
    {
      "cell_type": "code",
      "execution_count": null,
      "metadata": {
        "id": "jkHkwJh3DdfL"
      },
      "outputs": [],
      "source": [
        "train_datagen = ImageDataGenerator(rescale=1./255)\n",
        "\n",
        "test_datagen = ImageDataGenerator(rescale=1./255)\n",
        "\n",
        "#dataset link: https://www.kaggle.com/sartajbhuvaji/brain-tumor-classification-mri\n",
        "\n",
        "train_data = train_datagen.flow_from_directory(\"/content/drive/MyDrive/ML Datasets/brain-tumour/Training\",\n",
        "                                                  color_mode=\"grayscale\",\n",
        "                                                  shuffle=True,\n",
        "                                                  target_size=(128, 128),\n",
        "                                                  batch_size=32)\n",
        "\n",
        "test_dataset = test_datagen.flow_from_directory(\"/content/drive/MyDrive/ML Datasets/brain-tumour/Testing\",\n",
        "                                                color_mode=\"grayscale\",\n",
        "                                                target_size=(128,128),\n",
        "                                                batch_size=32)"
      ]
    },
    {
      "cell_type": "code",
      "execution_count": null,
      "metadata": {
        "id": "7eMMGAV0mTZb"
      },
      "outputs": [],
      "source": [
        "x_train, x_val, y_train, y_val = train_test_split(train_data, test_size=0.2, random_state=42)"
      ]
    },
    {
      "cell_type": "code",
      "execution_count": null,
      "metadata": {
        "id": "kGpvcdzVL9FL"
      },
      "outputs": [],
      "source": [
        "model = models.Sequential()\n",
        "\n",
        "model.add(layers.Conv2D(32, (3, 3), activation='relu', input_shape=(128, 128,1)))\n",
        "model.add(layers.MaxPooling2D((2, 2)))\n",
        "model.add(layers.Conv2D(64, (3, 3), activation='relu'))\n",
        "model.add(layers.MaxPooling2D((2, 2)))\n",
        "model.add(layers.Conv2D(128, (3, 3), activation='relu'))\n",
        "model.add(layers.MaxPooling2D((2, 2)))\n",
        "\n",
        "model.add(layers.Flatten())\n",
        "model.add(layers.Dense(128, activation=\"relu\"))\n",
        "model.add(layers.Dense(4, activation=\"softmax\"))\n",
        "\n",
        "model.summary()"
      ]
    },
    {
      "cell_type": "code",
      "execution_count": null,
      "metadata": {
        "id": "Iwe-OHCpPd3n"
      },
      "outputs": [],
      "source": [
        "model.compile(optimizer=\"Adam\",\n",
        "              loss=\"CategoricalCrossentropy\",\n",
        "              metrics=[\"accuracy\"])\n",
        "\n",
        "model.fit(train_dataset,\n",
        "          batch_size=32,\n",
        "          epochs=24,\n",
        "          validation_data=val_dataset)"
      ]
    },
    {
      "cell_type": "code",
      "execution_count": null,
      "metadata": {
        "id": "go-j73FAalX7"
      },
      "outputs": [],
      "source": [
        "model.evaluate(test_dataset, verbose=1)"
      ]
    }
  ],
  "metadata": {
    "colab": {
      "provenance": []
    },
    "kernelspec": {
      "display_name": "Python 3",
      "name": "python3"
    },
    "language_info": {
      "name": "python"
    }
  },
  "nbformat": 4,
  "nbformat_minor": 0
}
